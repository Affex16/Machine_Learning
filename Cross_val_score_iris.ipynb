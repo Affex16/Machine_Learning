{
 "cells": [
  {
   "cell_type": "code",
   "execution_count": 26,
   "id": "a32a15cc",
   "metadata": {},
   "outputs": [],
   "source": [
    "import pandas as pd\n",
    "from sklearn.tree import DecisionTreeClassifier\n",
    "from sklearn.linear_model import LogisticRegression\n",
    "from sklearn.svm import SVC\n",
    "from sklearn.ensemble import RandomForestClassifier\n",
    "from sklearn.datasets import load_iris\n",
    "iris=load_iris()\n",
    "import numpy as np"
   ]
  },
  {
   "cell_type": "code",
   "execution_count": 27,
   "id": "3ac1f0af",
   "metadata": {},
   "outputs": [],
   "source": [
    "from sklearn.model_selection import cross_val_score"
   ]
  },
  {
   "cell_type": "markdown",
   "id": "fded1014",
   "metadata": {},
   "source": [
    "# using Logistic_regression"
   ]
  },
  {
   "cell_type": "code",
   "execution_count": 28,
   "id": "09576681",
   "metadata": {},
   "outputs": [
    {
     "name": "stderr",
     "output_type": "stream",
     "text": [
      "C:\\Users\\Affex Jain\\anaconda3\\lib\\site-packages\\sklearn\\linear_model\\_logistic.py:814: ConvergenceWarning: lbfgs failed to converge (status=1):\n",
      "STOP: TOTAL NO. of ITERATIONS REACHED LIMIT.\n",
      "\n",
      "Increase the number of iterations (max_iter) or scale the data as shown in:\n",
      "    https://scikit-learn.org/stable/modules/preprocessing.html\n",
      "Please also refer to the documentation for alternative solver options:\n",
      "    https://scikit-learn.org/stable/modules/linear_model.html#logistic-regression\n",
      "  n_iter_i = _check_optimize_result(\n"
     ]
    },
    {
     "data": {
      "text/plain": [
       "0.9733333333333334"
      ]
     },
     "execution_count": 28,
     "metadata": {},
     "output_type": "execute_result"
    }
   ],
   "source": [
    "l_scores=cross_val_score(LogisticRegression(),iris.data,iris.target,cv=5)\n",
    "np.average(l_scores)"
   ]
  },
  {
   "cell_type": "markdown",
   "id": "ab49383a",
   "metadata": {},
   "source": [
    "# Using Support_vector_machine"
   ]
  },
  {
   "cell_type": "code",
   "execution_count": 29,
   "id": "a1120a26",
   "metadata": {},
   "outputs": [
    {
     "data": {
      "text/plain": [
       "0.9666666666666666"
      ]
     },
     "execution_count": 29,
     "metadata": {},
     "output_type": "execute_result"
    }
   ],
   "source": [
    "svm_scores=cross_val_score(SVC(),iris.data,iris.target,cv=5)\n",
    "np.average(svm_scores)"
   ]
  },
  {
   "cell_type": "markdown",
   "id": "685820f5",
   "metadata": {},
   "source": [
    "# Using Decision_Tree"
   ]
  },
  {
   "cell_type": "code",
   "execution_count": 30,
   "id": "4a644bbc",
   "metadata": {},
   "outputs": [
    {
     "data": {
      "text/plain": [
       "0.9600000000000002"
      ]
     },
     "execution_count": 30,
     "metadata": {},
     "output_type": "execute_result"
    }
   ],
   "source": [
    "dt_scores=cross_val_score(DecisionTreeClassifier(),iris.data,iris.target,cv=5)\n",
    "np.average(dt_scores)"
   ]
  },
  {
   "cell_type": "markdown",
   "id": "61efbac7",
   "metadata": {},
   "source": [
    "# Using Random_forest"
   ]
  },
  {
   "cell_type": "code",
   "execution_count": 31,
   "id": "09d6c512",
   "metadata": {},
   "outputs": [
    {
     "data": {
      "text/plain": [
       "0.9533333333333334"
      ]
     },
     "execution_count": 31,
     "metadata": {},
     "output_type": "execute_result"
    }
   ],
   "source": [
    "rf_scores=cross_val_score(RandomForestClassifier(n_estimators=50),iris.data,iris.target,cv=5)\n",
    "np.average(rf_scores)"
   ]
  },
  {
   "cell_type": "markdown",
   "id": "6e2dfd49",
   "metadata": {},
   "source": [
    "# So The Best Model Is LogisiticRegression()"
   ]
  }
 ],
 "metadata": {
  "kernelspec": {
   "display_name": "Python 3 (ipykernel)",
   "language": "python",
   "name": "python3"
  },
  "language_info": {
   "codemirror_mode": {
    "name": "ipython",
    "version": 3
   },
   "file_extension": ".py",
   "mimetype": "text/x-python",
   "name": "python",
   "nbconvert_exporter": "python",
   "pygments_lexer": "ipython3",
   "version": "3.9.12"
  }
 },
 "nbformat": 4,
 "nbformat_minor": 5
}
